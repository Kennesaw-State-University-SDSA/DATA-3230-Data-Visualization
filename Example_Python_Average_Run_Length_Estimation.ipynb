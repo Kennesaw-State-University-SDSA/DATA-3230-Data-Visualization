{
  "nbformat": 4,
  "nbformat_minor": 0,
  "metadata": {
    "colab": {
      "provenance": [],
      "authorship_tag": "ABX9TyN1qU033xw9gsVRmHXAR3uu",
      "include_colab_link": true
    },
    "kernelspec": {
      "name": "python3",
      "display_name": "Python 3"
    },
    "language_info": {
      "name": "python"
    }
  },
  "cells": [
    {
      "cell_type": "markdown",
      "metadata": {
        "id": "view-in-github",
        "colab_type": "text"
      },
      "source": [
        "<a href=\"https://colab.research.google.com/github/abrown9008/DATA-3230-Data-Visualization/blob/main/Example_Python_Average_Run_Length_Estimation.ipynb\" target=\"_parent\"><img src=\"https://colab.research.google.com/assets/colab-badge.svg\" alt=\"Open In Colab\"/></a>"
      ]
    },
    {
      "cell_type": "code",
      "execution_count": null,
      "metadata": {
        "id": "wG5sCynkNvIC"
      },
      "outputs": [],
      "source": []
    },
    {
      "cell_type": "markdown",
      "source": [
        "#Estimating Average Run Length using Python Simulation\n",
        "\n",
        "## Introduction\n",
        "\n",
        "Average run length is the average number of samples taken before an out-of-control signal is observed for a specific control chart. Sometimes this value can be calculated directly, and sometimes it has to be estimated.\n"
      ],
      "metadata": {
        "id": "QeM4cBNzOQf9"
      }
    },
    {
      "cell_type": "code",
      "source": [
        "## Write a function to calculate sample means from a normal distribution ##\n",
        "import numpy as np\n",
        "import matplotlib.pyplot as plt\n",
        "\n",
        "def sample_mean(n, mu, sigma):\n",
        "    samples = np.random.normal(mu, sigma, n)\n",
        "    sample_mean = np.mean(samples)\n",
        "    return sample_mean\n",
        "\n",
        "dat = sample_mean(1000, 0, 1)\n",
        "print(dat)"
      ],
      "metadata": {
        "colab": {
          "base_uri": "https://localhost:8080/"
        },
        "id": "_5oj-YwCOqMH",
        "outputId": "08cf2540-e1ed-4c77-f07a-007f91cd918a"
      },
      "execution_count": 6,
      "outputs": [
        {
          "output_type": "stream",
          "name": "stdout",
          "text": [
            "0.016052900718036278\n"
          ]
        }
      ]
    }
  ]
}