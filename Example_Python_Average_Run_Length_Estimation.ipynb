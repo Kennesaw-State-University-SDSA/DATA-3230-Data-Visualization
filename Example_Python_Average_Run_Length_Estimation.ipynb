{
  "nbformat": 4,
  "nbformat_minor": 0,
  "metadata": {
    "colab": {
      "provenance": [],
      "authorship_tag": "ABX9TyNf0JnBV8u8L93JifKVCQYn",
      "include_colab_link": true
    },
    "kernelspec": {
      "name": "python3",
      "display_name": "Python 3"
    },
    "language_info": {
      "name": "python"
    }
  },
  "cells": [
    {
      "cell_type": "markdown",
      "metadata": {
        "id": "view-in-github",
        "colab_type": "text"
      },
      "source": [
        "<a href=\"https://colab.research.google.com/github/abrown9008/DATA-3230-Data-Visualization/blob/main/Example_Python_Average_Run_Length_Estimation.ipynb\" target=\"_parent\"><img src=\"https://colab.research.google.com/assets/colab-badge.svg\" alt=\"Open In Colab\"/></a>"
      ]
    },
    {
      "cell_type": "markdown",
      "source": [
        "#Estimating Average Run Length using Python Simulation\n",
        "\n",
        "## Introduction\n",
        "\n",
        "Average run length is the average number of samples taken before an out-of-control signal is observed for a specific control chart. Sometimes this value can be calculated directly, and sometimes it has to be estimated.\n"
      ],
      "metadata": {
        "id": "QeM4cBNzOQf9"
      }
    },
    {
      "cell_type": "code",
      "source": [
        "## Write a function to calculate sample means from a normal distribution ##\n",
        "import numpy as np\n",
        "import matplotlib.pyplot as plt\n",
        "\n",
        "def sample_mean(n, mu, sigma):\n",
        "    samples = np.random.normal(mu, sigma, n)\n",
        "    sample_mean = np.mean(samples)\n",
        "    return sample_mean\n",
        "\n",
        "dat = sample_mean(1000, 0, 1)\n",
        "print(dat)"
      ],
      "metadata": {
        "colab": {
          "base_uri": "https://localhost:8080/"
        },
        "id": "_5oj-YwCOqMH",
        "outputId": "a853218a-73a7-4591-c178-f7bd9b40bbdd"
      },
      "execution_count": 1,
      "outputs": [
        {
          "output_type": "stream",
          "name": "stdout",
          "text": [
            "-0.04361849130435066\n"
          ]
        }
      ]
    },
    {
      "cell_type": "markdown",
      "source": [
        "Now that we have the code to calculate the mean from a random sample, we can build a loop to do this some arbitrary number of times using the below code:"
      ],
      "metadata": {
        "id": "gIU6tLVvF1gs"
      }
    },
    {
      "cell_type": "code",
      "source": [
        "## Write a loop to generate and save b = 10 sample means ##\n",
        "output = []\n",
        "for i in range(10):\n",
        "    output.append(sample_mean(1000, 0, 1))\n",
        "print(output)\n",
        "## Generate a histogram of output ##\n",
        "plt.hist(output)"
      ],
      "metadata": {
        "id": "077fuRnDF-Az",
        "outputId": "e6a2b709-3cb3-4799-87d9-f3676f97c2e0",
        "colab": {
          "base_uri": "https://localhost:8080/",
          "height": 534
        }
      },
      "execution_count": 4,
      "outputs": [
        {
          "output_type": "stream",
          "name": "stdout",
          "text": [
            "[-0.011666764152361911, 0.05668323834504359, 0.05644974638040116, -0.029626620077061277, -0.048849806854400595, 0.04451194296269139, 0.014927308600990603, 0.04243761594063987, 0.04082877504319814, -0.026156629446238117]\n"
          ]
        },
        {
          "output_type": "execute_result",
          "data": {
            "text/plain": [
              "(array([1., 1., 1., 1., 0., 0., 1., 0., 3., 2.]),\n",
              " array([-0.04884981, -0.0382965 , -0.0277432 , -0.01718989, -0.00663659,\n",
              "         0.00391672,  0.01447002,  0.02502332,  0.03557663,  0.04612993,\n",
              "         0.05668324]),\n",
              " <BarContainer object of 10 artists>)"
            ]
          },
          "metadata": {},
          "execution_count": 4
        },
        {
          "output_type": "display_data",
          "data": {
            "text/plain": [
              "<Figure size 640x480 with 1 Axes>"
            ],
            "image/png": "[encoded data removed]"
          },
          "metadata": {}
        }
      ]
    }
  ]
}